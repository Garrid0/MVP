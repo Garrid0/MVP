{
 "cells": [
  {
   "cell_type": "code",
   "execution_count": 1,
   "metadata": {},
   "outputs": [
    {
     "data": {
      "image/png": "[encoded data removed]",
      "text/plain": [
       "<Figure size 432x288 with 1 Axes>"
      ]
     },
     "metadata": {
      "needs_background": "light"
     },
     "output_type": "display_data"
    },
    {
     "data": {
      "image/png": "[encoded data removed]",
      "text/plain": [
       "<Figure size 432x288 with 1 Axes>"
      ]
     },
     "metadata": {
      "needs_background": "light"
     },
     "output_type": "display_data"
    },
    {
     "name": "stdout",
     "output_type": "stream",
     "text": [
      "It took: 14.640176208813985 minutes to run\n"
     ]
    }
   ],
   "source": [
    "import matplotlib\n",
    "import sys\n",
    "import math\n",
    "import random\n",
    "import numpy as np\n",
    "import matplotlib.pyplot as plt\n",
    "import matplotlib.animation as animation\n",
    "import pandas as pd\n",
    "import time\n",
    "import scipy as sp\n",
    "from scipy import ndimage\n",
    "\n",
    "start_time=time.time()\n",
    "\n",
    "\n",
    "#Number of Montecarlo sweeps for calculation\n",
    "sweeps = 100\n",
    "eqsweeps = 10\n",
    "\n",
    "#Number of sweeps\n",
    "N=50\n",
    "\n",
    "\n",
    "#Generate random initial state\n",
    "def randominitialstate(N):   \n",
    "    \n",
    "    initstate = np.random.randint(-1 , 2 ,size=(N,N))\n",
    "    return initstate\n",
    "\n",
    "\n",
    "\n",
    "def nextState(cell):\n",
    "    \n",
    "    \n",
    "    for i in range(N):\n",
    "        for j in range(N):\n",
    "            \n",
    "            a = np.random.randint(0, N)\n",
    "            b = np.random.randint(0, N)\n",
    "            \n",
    "            if cell[a,b] == 0:\n",
    "            \n",
    "                if cell[(a+1)%N,b]==-1 or cell[a,(b+1)%N]==-1 or cell[(a-1)%N,b]==-1 or cell[a,(b-1)%N]==-1:\n",
    "                    if np.random.rand() < float(p1):\n",
    "                        \n",
    "                        cell[a,b]=-1\n",
    "            \n",
    "            elif cell[a,b] == -1:\n",
    "                if np.random.rand() < float(p2):\n",
    "                    cell[a,b] = 1\n",
    "            \n",
    "            else:\n",
    "                if np.random.rand() < float(p3):\n",
    "                    cell[a,b] = 0\n",
    "            \n",
    "            \n",
    " \n",
    "    return cell\n",
    "            \n",
    "def NumInfected(cell):\n",
    "\n",
    "   \n",
    "    return np.count_nonzero(cell==-1)\n",
    "\n",
    "\n",
    "p1s=np.linspace(0,1,num=21)\n",
    "p3s=np.linspace(0,1,num=21)\n",
    "\n",
    "InfectedAverages=np.zeros((len(p1s),len(p3s)))\n",
    "InfectedSquaredAverages=np.zeros((len(p1s),len(p3s)))\n",
    "\n",
    "for a in range(len(p1s)):\n",
    "    \n",
    "    p1=p1s[a]\n",
    "    \n",
    "    for b in range(len(p3s)):\n",
    "        \n",
    "        #p1=p1s[a]\n",
    "        \n",
    "        p2=0.5\n",
    "        \n",
    "        p3=p3s[b]\n",
    "        \n",
    "        \n",
    "        infe=np.zeros(sweeps)\n",
    "        cell = randominitialstate(N)\n",
    "        \n",
    "        for i in range(eqsweeps):\n",
    "            cell= nextState(cell)\n",
    "\n",
    "        for i in range(sweeps):         \n",
    "            cell = nextState(cell)\n",
    "            ninfected=NumInfected(cell)\n",
    "            \n",
    "            if ninfected != 0:\n",
    "                \n",
    "                infe[i]=ninfected\n",
    "\n",
    "            else:\n",
    "                infe=np.zeros(sweeps)\n",
    "                break\n",
    "          \n",
    "        InfectedAverages[b][a] = np.average(infe)\n",
    "        InfectedSquaredAverages[b][a] = np.average(infe**2)\n",
    "        \n",
    "        \n",
    "        \n",
    "Variance = (InfectedSquaredAverages - (InfectedAverages**2))/(N*N)\n",
    "VarianceData = pd.DataFrame(Variance)\n",
    "InfectedData=pd.DataFrame(InfectedAverages/(N*N))\n",
    "VarianceData.to_csv('VarianceData100.csv',index=False)\n",
    "InfectedData.to_csv('InfectedData100.csv',index=False)\n",
    "InfectedDataPlot = pd.read_csv(\"InfectedData100.csv\")\n",
    "VarianceDataPlot=pd.read_csv(\"VarianceData100.csv\")\n",
    "\n",
    "plot1=plt.figure(1)\n",
    "plt.pcolormesh(p1s,p3s,InfectedDataPlot)\n",
    "\n",
    "plot2=plt.figure(2)\n",
    "plt.pcolormesh(p1s,p3s,VarianceDataPlot)\n",
    "\n",
    "plt.show()\n",
    "\n",
    "print(\"It took: \"+str((time.time()-start_time)/60)+\" minutes to run\")"
   ]
  },
  {
   "cell_type": "code",
   "execution_count": null,
   "metadata": {},
   "outputs": [],
   "source": []
  },
  {
   "cell_type": "code",
   "execution_count": null,
   "metadata": {},
   "outputs": [],
   "source": []
  }
 ],
 "metadata": {
  "kernelspec": {
   "display_name": "Python 3",
   "language": "python",
   "name": "python3"
  },
  "language_info": {
   "codemirror_mode": {
    "name": "ipython",
    "version": 3
   },
   "file_extension": ".py",
   "mimetype": "text/x-python",
   "name": "python",
   "nbconvert_exporter": "python",
   "pygments_lexer": "ipython3",
   "version": "3.7.6"
  }
 },
 "nbformat": 4,
 "nbformat_minor": 4
}
