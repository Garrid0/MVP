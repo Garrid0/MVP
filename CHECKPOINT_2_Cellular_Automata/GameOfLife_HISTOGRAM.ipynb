{
 "cells": [
  {
   "cell_type": "code",
   "execution_count": 2,
   "metadata": {},
   "outputs": [
    {
     "data": {
      "image/png": "[encoded data removed]",
      "text/plain": [
       "<Figure size 432x288 with 1 Axes>"
      ]
     },
     "metadata": {
      "needs_background": "light"
     },
     "output_type": "display_data"
    },
    {
     "name": "stdout",
     "output_type": "stream",
     "text": [
      "It took: 31.772281563282014 minutes to run\n"
     ]
    }
   ],
   "source": [
    "import matplotlib\n",
    "import sys\n",
    "import math\n",
    "import random\n",
    "import numpy as np\n",
    "import matplotlib.pyplot as plt\n",
    "import matplotlib.animation as animation\n",
    "import pandas as pd\n",
    "import time\n",
    "import scipy as sp\n",
    "from scipy import ndimage\n",
    "\n",
    "start_time=time.time()\n",
    "\n",
    "\n",
    "#Number of Montecarlo sweeps for calculation\n",
    "sweeps = 6000    \n",
    "\n",
    "#Ask for array length\n",
    "N=50\n",
    "\n",
    "\n",
    "#Generate random initial state\n",
    "def randominitialstate(N):   \n",
    "    \n",
    "    initstate = np.random.randint(2, size=(N,N))\n",
    "    return initstate\n",
    "\n",
    "\n",
    "def calculateTime(cell):\n",
    "    \n",
    "    activeCells= np.sum(cell)\n",
    "    return activeCells\n",
    "\n",
    "def nextState(cell):\n",
    "    \n",
    "    newcell=np.zeros((N,N))\n",
    "    \n",
    "    for a in range(N):\n",
    "        for b in range(N):\n",
    "            \n",
    "            neighbours = cell[(a+1)%N,b] + cell[a,(b+1)%N] + cell[(a-1)%N,b] + cell[a,(b-1)%N] + cell[(a+1)%N,(b+1)%N] + cell[(a+1)%N,(b-1)%N] + cell[(a-1)%N, (b-1)%N] + cell[(a-1)%N, (b+1)%N]\n",
    "            \n",
    "            if cell[a,b] == 1:\n",
    "                \n",
    "                if neighbours < 2:\n",
    "                    newcell[a,b]=0\n",
    "                elif neighbours > 3:\n",
    "                    newcell[a,b]=0\n",
    "            \n",
    "                else:\n",
    "                    newcell[a,b]=1\n",
    "            else:\n",
    "                if neighbours == 3:\n",
    "                    newcell[a,b]=1\n",
    "  \n",
    "    cell = newcell\n",
    "\n",
    "    return cell\n",
    "            \n",
    "\n",
    "Plotactivesteps=np.zeros(sweeps)\n",
    "numsweeps=np.zeros(200)\n",
    "\n",
    "for j in range (200):\n",
    "    \n",
    "    cell = randominitialstate(N)\n",
    "    for i in range(sweeps):         \n",
    "        \n",
    "        cell = nextState(cell)\n",
    "        Plotactivesteps[i] = calculateTime(cell)\n",
    "    \n",
    "        if i > 10 and abs(Plotactivesteps[i]-Plotactivesteps[i-1])<5 and abs(Plotactivesteps[i]-Plotactivesteps[i-2])<5 and abs(Plotactivesteps[i]-Plotactivesteps[i-3])<5 and abs(Plotactivesteps[i]-Plotactivesteps[i-4])<5 and abs(Plotactivesteps[i]-Plotactivesteps[i-5])<5 and abs(Plotactivesteps[i]-Plotactivesteps[i-6])<5 and abs(Plotactivesteps[i]-Plotactivesteps[i-7])<5 and abs(Plotactivesteps[i]-Plotactivesteps[i-8])<5 and abs(Plotactivesteps[i]-Plotactivesteps[i-9])<5 and abs(Plotactivesteps[i]-Plotactivesteps[i-10])<5:\n",
    "            numsweeps[j]=(i-10)\n",
    "            break\n",
    "\n",
    "HistrogramData=pd.DataFrame(numsweeps)\n",
    "HistrogramData.to_csv('histogramData.csv',index=False)\n",
    "HistogramDataPlot = pd.read_csv(\"histogramData.csv\")\n",
    "\n",
    "plt.hist(numsweeps, bins=40)\n",
    "plt.title(\"Frequencies VS Number of sweeps to reach equilibrium\")\n",
    "plt.xlabel(\"Number of sweeps to reach equilibrium\")\n",
    "plt.ylabel(\"Number of simulations (frequencies)\")\n",
    "plt.show()\n",
    "print(\"It took: \"+str((time.time()-start_time)/60)+\" minutes to run\")"
   ]
  },
  {
   "cell_type": "code",
   "execution_count": null,
   "metadata": {},
   "outputs": [],
   "source": []
  }
 ],
 "metadata": {
  "kernelspec": {
   "display_name": "Python 3 (ipykernel)",
   "language": "python",
   "name": "python3"
  },
  "language_info": {
   "codemirror_mode": {
    "name": "ipython",
    "version": 3
   },
   "file_extension": ".py",
   "mimetype": "text/x-python",
   "name": "python",
   "nbconvert_exporter": "python",
   "pygments_lexer": "ipython3",
   "version": "3.9.2"
  }
 },
 "nbformat": 4,
 "nbformat_minor": 4
}
