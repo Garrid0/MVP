{
 "cells": [
  {
   "cell_type": "code",
   "execution_count": 2,
   "metadata": {},
   "outputs": [
    {
     "name": "stdout",
     "output_type": "stream",
     "text": [
      "[0.         0.         0.         0.         0.         0.\n",
      " 0.         0.         0.01038574 0.00703957 0.01127414 0.00610607\n",
      " 0.00832862 0.00585222 0.00578751 0.00625312 0.00558531 0.00670235\n",
      " 0.00616318 0.00680259 0.00603686]\n"
     ]
    },
    {
     "data": {
      "image/png": "[encoded data removed]",
      "text/plain": [
       "<Figure size 432x288 with 1 Axes>"
      ]
     },
     "metadata": {
      "needs_background": "light"
     },
     "output_type": "display_data"
    },
    {
     "name": "stdout",
     "output_type": "stream",
     "text": [
      "It took: 12.263029801845551 minutes to run\n"
     ]
    }
   ],
   "source": [
    "import matplotlib\n",
    "import sys\n",
    "import math\n",
    "import random\n",
    "import numpy as np\n",
    "import matplotlib.pyplot as plt\n",
    "import matplotlib.animation as animation\n",
    "import pandas as pd\n",
    "import time\n",
    "import scipy as sp\n",
    "from scipy import ndimage\n",
    "\n",
    "start_time=time.time()\n",
    "\n",
    "p1s=np.linspace(0.2,0.5,num=21)\n",
    "N=50\n",
    "\n",
    "InfectedDataPlot=pd.read_csv(\"InfectCutData.csv\")\n",
    "\n",
    "InfePlot=InfectedDataPlot.mean(axis=1)\n",
    "\n",
    "VarPlot=np.zeros(len(p1s))\n",
    "stdVar=np.zeros(len(VarPlot))\n",
    "\n",
    "for i in range(len(p1s)):\n",
    "        \n",
    "        VarPlot[i]=(np.average(InfectedDataPlot.loc[[i]]**2)- InfePlot[i]**2)/(N*N)\n",
    "        shuffles=np.zeros((100,10000))\n",
    "        Imean=np.zeros(100)\n",
    "        Imean2=np.zeros(100)\n",
    "        Var=np.zeros(100)\n",
    "        Var2=np.zeros(100)\n",
    "       \n",
    "       \n",
    "        for j in range(100):\n",
    "            \n",
    "            for k in range(10000):\n",
    "                \n",
    "                position=np.random.randint(0,999)\n",
    "                shuffles[j,k] = InfectedDataPlot.iat[i,position]\n",
    "            Imean[j]=np.average(shuffles[j])\n",
    "            Imean2[j]=np.average(shuffles[j]**2)\n",
    "            Var[j]=(Imean2[j]-Imean[j]**2)/(N*N)\n",
    "            Var2[j]=Var[j]**2\n",
    "            \n",
    "        stdVar[i] = math.sqrt(np.average(Var2)-np.average(Var)**2)\n",
    "\n",
    "combination= np.vstack((p1s,VarPlot,stdVar)).T\n",
    "VarianceData = pd.DataFrame(combination)\n",
    "VarianceData.to_csv('VariancePlotCutData.csv',index=False)\n",
    "\n",
    "plt.errorbar(p1s,VarPlot,yerr=stdVar,ms=2,fmt=\"o\")\n",
    "plt.title(\"Variance versus Probability of Infection (p1)\")\n",
    "plt.xlabel(\"Probability of Infection (p1)\");\n",
    "plt.ylabel(\"Variance\");         \n",
    "\n",
    "plt.show()\n",
    "\n",
    "print(\"It took: \"+str((time.time()-start_time)/60)+\" minutes to run\")"
   ]
  },
  {
   "cell_type": "code",
   "execution_count": null,
   "metadata": {},
   "outputs": [],
   "source": []
  },
  {
   "cell_type": "code",
   "execution_count": null,
   "metadata": {},
   "outputs": [],
   "source": []
  }
 ],
 "metadata": {
  "kernelspec": {
   "display_name": "Python 3 (ipykernel)",
   "language": "python",
   "name": "python3"
  },
  "language_info": {
   "codemirror_mode": {
    "name": "ipython",
    "version": 3
   },
   "file_extension": ".py",
   "mimetype": "text/x-python",
   "name": "python",
   "nbconvert_exporter": "python",
   "pygments_lexer": "ipython3",
   "version": "3.9.2"
  }
 },
 "nbformat": 4,
 "nbformat_minor": 4
}
