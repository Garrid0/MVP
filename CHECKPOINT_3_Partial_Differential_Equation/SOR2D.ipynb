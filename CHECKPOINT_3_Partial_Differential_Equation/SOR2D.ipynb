{
 "cells": [
  {
   "cell_type": "code",
   "execution_count": 1,
   "metadata": {},
   "outputs": [
    {
     "data": {
      "image/png": "[encoded data removed]",
      "text/plain": [
       "<Figure size 432x288 with 1 Axes>"
      ]
     },
     "metadata": {
      "needs_background": "light"
     },
     "output_type": "display_data"
    },
    {
     "name": "stdout",
     "output_type": "stream",
     "text": [
      "It took: 28.40794277191162 minutes to run\n"
     ]
    }
   ],
   "source": [
    "import matplotlib\n",
    "import sys\n",
    "import math\n",
    "import random\n",
    "import numpy as np\n",
    "import matplotlib.pyplot as plt\n",
    "import matplotlib.animation as animation\n",
    "import pandas as pd\n",
    "import time\n",
    "import scipy as sp\n",
    "from scipy import ndimage\n",
    "\n",
    "start_time=time.time()\n",
    "\n",
    "#Number of Montecarlo sweeps for calculation\n",
    "sweeps = 10000\n",
    "\n",
    "N=50\n",
    "\n",
    "dt=1\n",
    "dx=1\n",
    "M=0.1\n",
    "a=0.1\n",
    "k=0.1\n",
    "\n",
    "\n",
    "def GaussSeidel(phi, omega):\n",
    "    \n",
    "    temphi=np.copy(phi)\n",
    "    for i in range(1,N-1):\n",
    "        for j in range(1,N-1):\n",
    "            phi[i,j] = (1-omega)*temphi[i,j] + omega*1/4*(phi[(i+1)%N,j] + phi[(i-1)%N,j]\n",
    "                                + phi[i,(j+1)%N] + phi[i,(j-1)%N] + rho[i,j])\n",
    "\n",
    "    \n",
    "    return phi\n",
    "                \n",
    "\n",
    "phi = np.zeros((N,N))\n",
    "rho = np.zeros((N,N))\n",
    "rho[int(N/2),int(N/2)]=1\n",
    "prevphi=np.zeros((N,N))\n",
    "O = np.linspace(1, 1.99, 200)    \n",
    "relaxationtimes=np.zeros(len(O))\n",
    "\n",
    "for o in range(len(O)):\n",
    "    counter=0\n",
    "    phi = np.zeros((N,N))\n",
    "    prevphi=np.zeros((N,N))\n",
    "    for i in range(sweeps):         \n",
    "    \n",
    "        phi=GaussSeidel(phi,O[o])  \n",
    "        counter+=1\n",
    "            \n",
    "        if np.sum(abs(prevphi-phi)) < 10**(-3):\n",
    "            break\n",
    "            \n",
    "        prevphi=np.copy(phi)\n",
    "        \n",
    "    relaxationtimes[o]=counter\n",
    "\n",
    "data=np.vstack((O.flatten(),relaxationtimes.flatten())).T\n",
    "dataSOR=pd.DataFrame(data)\n",
    "dataSOR.to_csv('dataSOR2D.csv',index=False)\n",
    "    \n",
    "    \n",
    "    \n",
    "plt.plot(O,relaxationtimes,\"x\")\n",
    "plt.title(\"Omega vs Time Steps used to solve problem\")\n",
    "plt.xlabel(\"Time steps used to solve the problem (Number of Sweeps) \")\n",
    "plt.ylabel(\"Omega\")\n",
    "plt.show()\n",
    "\n",
    "    \n",
    "\n",
    "print(\"It took: \"+str((time.time()-start_time)/60)+\" minutes to run\")"
   ]
  },
  {
   "cell_type": "code",
   "execution_count": null,
   "metadata": {},
   "outputs": [],
   "source": []
  }
 ],
 "metadata": {
  "kernelspec": {
   "display_name": "Python 3",
   "language": "python",
   "name": "python3"
  },
  "language_info": {
   "codemirror_mode": {
    "name": "ipython",
    "version": 3
   },
   "file_extension": ".py",
   "mimetype": "text/x-python",
   "name": "python",
   "nbconvert_exporter": "python",
   "pygments_lexer": "ipython3",
   "version": "3.7.6"
  }
 },
 "nbformat": 4,
 "nbformat_minor": 4
}
