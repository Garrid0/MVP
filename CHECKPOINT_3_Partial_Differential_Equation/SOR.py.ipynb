{
 "cells": [
  {
   "cell_type": "code",
   "execution_count": 1,
   "metadata": {},
   "outputs": [
    {
     "data": {
      "image/png": "[encoded data removed]",
      "text/plain": [
       "<Figure size 432x288 with 1 Axes>"
      ]
     },
     "metadata": {
      "needs_background": "light"
     },
     "output_type": "display_data"
    },
    {
     "name": "stdout",
     "output_type": "stream",
     "text": [
      "It took: 43.861157631874086 minutes to run\n"
     ]
    }
   ],
   "source": [
    "import matplotlib\n",
    "import sys\n",
    "import math\n",
    "import random\n",
    "import numpy as np\n",
    "import matplotlib.pyplot as plt\n",
    "import matplotlib.animation as animation\n",
    "import pandas as pd\n",
    "import time\n",
    "import scipy as sp\n",
    "from scipy import ndimage\n",
    "\n",
    "start_time=time.time()\n",
    "\n",
    "#Number of Montecarlo sweeps for calculation\n",
    "sweeps = 10000\n",
    "\n",
    "N=50\n",
    "\n",
    "dt=1\n",
    "dx=1\n",
    "M=0.1\n",
    "a=0.1\n",
    "k=0.1\n",
    "\n",
    "def GaussSeidel(phi,omega):            \n",
    "    \n",
    "    temphi=np.copy(phi)\n",
    "    phi2=np.copy(phi)*chessboard1\n",
    "    phi1=np.copy(phi)*chessboard2\n",
    "\n",
    "    \n",
    "    phi1 = (1/6)*(np.roll(phi2,1,axis=0) + np.roll(phi2,-1,axis=0) + np.roll(phi2,1,axis=1) \n",
    "                  + np.roll(phi2,-1,axis=1) + np.roll(phi2,1,axis=2) + np.roll(phi2,-1,axis=2) + rho*chessboard1)\n",
    "    \n",
    "    phi1[:,:,N-1] = 0\n",
    "    phi1[:,N-1,:] = 0\n",
    "    phi1[N-1,:,:] = 0\n",
    "    phi1[:,:,0] = 0\n",
    "    phi1[:,0,:] = 0\n",
    "    phi1[0,:,:] = 0\n",
    "    \n",
    "    phi = omega*(phi1 + (1/6)*(np.roll(phi1,1,axis=0) + np.roll(phi1,-1,axis=0) + np.roll(phi1,1,axis=1) \n",
    "                  + np.roll(phi1,-1,axis=1) + np.roll(phi1,1,axis=2) \n",
    "                               + np.roll(phi1,-1,axis=2) + rho*chessboard2)) + (1-omega)*temphi\n",
    "      \n",
    "    \n",
    "    phi[:,:,N-1] = 0\n",
    "    phi[:,N-1,:] = 0\n",
    "    phi[N-1,:,:] = 0\n",
    "    phi[:,:,0] = 0\n",
    "    phi[:,0,:] = 0\n",
    "    phi[0,:,:] = 0\n",
    "    \n",
    "    return phi \n",
    "                  \n",
    "phi = np.zeros((N,N,N))\n",
    "rho = np.zeros((N,N,N))\n",
    "rho[int(N/2),int(N/2),int(N/2)]=1\n",
    "prevphi=np.zeros((N,N,N))\n",
    "O = np.linspace(1.4, 1.991, 200)\n",
    "chessboard1 = np.sum(np.indices((N,N,N)),axis=0) % 2\n",
    "chessboard2 = (np.sum(np.indices((N,N,N)),axis = 0) + np.ones((N,N,N))) % 2\n",
    "\n",
    "    \n",
    "relaxationtimes=np.zeros(len(O))\n",
    "for o in range(len(O)):\n",
    "    counter=0\n",
    "    phi = np.zeros((N,N,N))\n",
    "    prevphi=np.zeros((N,N,N))\n",
    "    for i in range(sweeps):         \n",
    "    \n",
    "        phi=GaussSeidel(phi,O[o])\n",
    "            \n",
    "        counter+=1\n",
    "            \n",
    "        if np.sum(abs(prevphi-phi)) < 10**(-3):\n",
    "            break\n",
    "            \n",
    "        prevphi=np.copy(phi)\n",
    "        \n",
    "    relaxationtimes[o]=counter\n",
    "\n",
    "data=np.vstack((O.flatten(),relaxationtimes.flatten())).T\n",
    "dataSOR=pd.DataFrame(data)\n",
    "dataSOR.to_csv('dataSOR.csv',index=False)\n",
    "    \n",
    "    \n",
    "    \n",
    "plt.plot(O,relaxationtimes,\"x\")\n",
    "plt.title(\"Omega vs Time Steps used to solve problem\")\n",
    "plt.xlabel(\"Time steps used to solve the problem (Number of Sweeps) \")\n",
    "plt.ylabel(\"Omega\")\n",
    "plt.show()\n",
    "\n",
    "    \n",
    "\n",
    "print(\"It took: \"+str((time.time()-start_time)/60)+\" minutes to run\")"
   ]
  },
  {
   "cell_type": "code",
   "execution_count": null,
   "metadata": {},
   "outputs": [],
   "source": []
  }
 ],
 "metadata": {
  "kernelspec": {
   "display_name": "Python 3",
   "language": "python",
   "name": "python3"
  },
  "language_info": {
   "codemirror_mode": {
    "name": "ipython",
    "version": 3
   },
   "file_extension": ".py",
   "mimetype": "text/x-python",
   "name": "python",
   "nbconvert_exporter": "python",
   "pygments_lexer": "ipython3",
   "version": "3.7.6"
  }
 },
 "nbformat": 4,
 "nbformat_minor": 4
}
